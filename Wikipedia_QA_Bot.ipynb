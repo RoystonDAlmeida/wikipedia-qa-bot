{
 "cells": [
  {
   "cell_type": "code",
   "execution_count": null,
   "metadata": {
    "id": "8m3GEEh57YAO"
   },
   "outputs": [],
   "source": [
    "# Step 1: Install required libraries\n",
    "!pip install wikipedia-api langchain-community langchain-huggingface chromadb"
   ]
  },
  {
   "cell_type": "code",
   "execution_count": 3,
   "metadata": {
    "id": "yLmrJ_KC8J9k"
   },
   "outputs": [],
   "source": [
    "# Step 2: Import necessary libraries\n",
    "import wikipediaapi\n",
    "from langchain.text_splitter import CharacterTextSplitter\n",
    "from langchain_community.vectorstores import Chroma\n",
    "from langchain_huggingface import HuggingFaceEmbeddings\n",
    "from langchain.embeddings import HuggingFaceEmbeddings as HFEmbeddings\n",
    "\n",
    "class WikiQABot:\n",
    "\n",
    "  def __init__(self, language = 'en'):\n",
    "    # Initialise Wikipedia API\n",
    "\n",
    "    self.wiki_wiki = wikipediaapi.Wikipedia('Project', language)\n",
    "    self.docsearch = None\n",
    "\n",
    "  def load_wikipedia_page(self, page_title):\n",
    "    \"\"\" Load a Wikipedia page and return its text\"\"\"\n",
    "\n",
    "    page = self.wiki_wiki.page(page_title)\n",
    "    if not page.exists():\n",
    "      print(f\"The page '{page_title}' does not exist.\")\n",
    "      return None\n",
    "\n",
    "    return page.text\n",
    "\n",
    "  def setup_qa_bot(self, page_text):\n",
    "    \"\"\" Create embeddings and setup the Q&A bot\"\"\"\n",
    "\n",
    "    embeddings = HFEmbeddings(model_name=\"all-MiniLM-L6-v2\")\n",
    "\n",
    "    # Split text into chunks for processing\n",
    "    text_splitter = CharacterTextSplitter(chunk_size=1000, chunk_overlap=0)\n",
    "    texts = text_splitter.split_text(page_text)\n",
    "\n",
    "    # Create a vector store for similarity search\n",
    "    self.docsearch = Chroma.from_texts(\n",
    "        texts, embeddings, metadatas=[{\"source\": str(i)} for\n",
    "                                      i in range(len(texts))]\n",
    "        )\n",
    "\n",
    "  def query_bot(self):\n",
    "    \"\"\" Interactively query the bot \"\"\"\n",
    "\n",
    "    while True:\n",
    "      query = input(\"Type your question(or type 'exit' to quit):\")\n",
    "      if query.lower() == 'exit':\n",
    "        break\n",
    "\n",
    "      if self.docsearch is None:\n",
    "        print(\"The Q&A bot is not set up yet. Please load a Wikipedia page first.\")\n",
    "        continue\n",
    "\n",
    "      docs = self.docsearch.similarity_search_with_score(query, k=1)\n",
    "      for doc in docs:\n",
    "        print(f\"Answer:{doc[0].page_content} (Source: {doc[0].metadata['source']})\")\n",
    "\n",
    "  def run(self):\n",
    "    \"\"\" Main interactive loop to run the bot\"\"\"\n",
    "\n",
    "    print(\"Welcome to the Wikipedia Q&A Bot:\")\n",
    "    page_title = input(\"Enter the title of the WIkipedia page you want to load:\")\n",
    "\n",
    "    # Load the specified wikipedia page\n",
    "    page_text = self.load_wikipedia_page(page_title)\n",
    "    if page_text:\n",
    "      # Setup the Q&A bot with loaded text\n",
    "      self.setup_qa_bot(page_text)\n",
    "\n",
    "      # Start querying the bot\n",
    "      self.query_bot()"
   ]
  },
  {
   "cell_type": "code",
   "execution_count": null,
   "metadata": {
    "id": "OdK4LpVJDHjk"
   },
   "outputs": [],
   "source": [
    "# Run the WikiQABot class\n",
    "bot = WikiQABot()\n",
    "bot.run()"
   ]
  }
 ],
 "metadata": {
  "colab": {
   "provenance": []
  },
  "kernelspec": {
   "display_name": "Python 3 (ipykernel)",
   "language": "python",
   "name": "python3"
  },
  "language_info": {
   "codemirror_mode": {
    "name": "ipython",
    "version": 3
   },
   "file_extension": ".py",
   "mimetype": "text/x-python",
   "name": "python",
   "nbconvert_exporter": "python",
   "pygments_lexer": "ipython3",
   "version": "3.8.10"
  }
 },
 "nbformat": 4,
 "nbformat_minor": 4
}
